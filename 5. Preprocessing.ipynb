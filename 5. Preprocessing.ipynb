{
 "cells": [
  {
   "cell_type": "markdown",
   "id": "5315b081",
   "metadata": {},
   "source": [
    "<h1 style = \"color:Brown\">Objectives</h1>\n",
    "\n",
    "### 1. Loading data.\n",
    "### 2. Checking for missing values.\n",
    "### 3. Splitting the data in to train set and test set.\n",
    "\n",
    "\n"
   ]
  },
  {
   "cell_type": "code",
   "execution_count": 1,
   "id": "4c02e713",
   "metadata": {},
   "outputs": [
    {
     "name": "stdout",
     "output_type": "stream",
     "text": [
      "   CreditScore  Age  Tenure    Balance  HasCrCard     Salary  Exited\n",
      "0          619   42       2       0.00          1  101348.88       1\n",
      "1          608   41       1   83807.86          0  112542.58       0\n",
      "2          502   42       8  159660.80          1  113931.57       1\n",
      "3          699   39       1       0.00          0   93826.63       0\n",
      "4          850   43       2  125510.82          1   79084.10       0\n"
     ]
    }
   ],
   "source": [
    "# Import pandas and load the dataset into a dataframe\n",
    "import pandas as pd\n",
    "\n",
    "df = pd.read_csv(\"Churn-Modelling.csv\")\n",
    "print(df.head())"
   ]
  },
  {
   "cell_type": "markdown",
   "id": "557cf5e0",
   "metadata": {},
   "source": [
    "<h2 style = \"color:green\">pandas.isna(object)</h2>\n",
    "\n",
    "### Detects missing values.\n",
    "### Returns a boolen object of same size.\n",
    "### None and np.NaN are mapped True values. Everything else gets mapped to False values."
   ]
  },
  {
   "cell_type": "code",
   "execution_count": 2,
   "id": "05bc4c73",
   "metadata": {},
   "outputs": [
    {
     "data": {
      "text/plain": [
       "CreditScore    0\n",
       "Age            0\n",
       "Tenure         0\n",
       "Balance        0\n",
       "HasCrCard      0\n",
       "Salary         0\n",
       "Exited         0\n",
       "dtype: int64"
      ]
     },
     "execution_count": 2,
     "metadata": {},
     "output_type": "execute_result"
    }
   ],
   "source": [
    "# Check for missing values\n",
    "pd.isna(df).sum()"
   ]
  },
  {
   "cell_type": "code",
   "execution_count": 3,
   "id": "feaed93f",
   "metadata": {},
   "outputs": [
    {
     "name": "stdout",
     "output_type": "stream",
     "text": [
      "        CreditScore           Age        Tenure        Balance    HasCrCard  \\\n",
      "count  10000.000000  10000.000000  10000.000000   10000.000000  10000.00000   \n",
      "mean     650.528800     38.921800      5.012800   76485.889288      0.70550   \n",
      "std       96.653299     10.487806      2.892174   62397.405202      0.45584   \n",
      "min      350.000000     18.000000      0.000000       0.000000      0.00000   \n",
      "25%      584.000000     32.000000      3.000000       0.000000      0.00000   \n",
      "50%      652.000000     37.000000      5.000000   97198.540000      1.00000   \n",
      "75%      718.000000     44.000000      7.000000  127644.240000      1.00000   \n",
      "max      850.000000     92.000000     10.000000  250898.090000      1.00000   \n",
      "\n",
      "              Salary        Exited  \n",
      "count   10000.000000  10000.000000  \n",
      "mean   100090.239881      0.203700  \n",
      "std     57510.492818      0.402769  \n",
      "min        11.580000      0.000000  \n",
      "25%     51002.110000      0.000000  \n",
      "50%    100193.915000      0.000000  \n",
      "75%    149388.247500      0.000000  \n",
      "max    199992.480000      1.000000  \n"
     ]
    }
   ],
   "source": [
    "print(df.describe())\n"
   ]
  },
  {
   "cell_type": "code",
   "execution_count": 4,
   "id": "f18b0691",
   "metadata": {},
   "outputs": [
    {
     "name": "stdout",
     "output_type": "stream",
     "text": [
      "   CreditScore  Age  Tenure    Balance  HasCrCard     Salary\n",
      "0          619   42       2       0.00          1  101348.88\n",
      "1          608   41       1   83807.86          0  112542.58\n",
      "2          502   42       8  159660.80          1  113931.57\n",
      "3          699   39       1       0.00          0   93826.63\n",
      "4          850   43       2  125510.82          1   79084.10\n",
      "0    1\n",
      "1    0\n",
      "2    1\n",
      "3    0\n",
      "4    0\n",
      "Name: Exited, dtype: int64\n"
     ]
    }
   ],
   "source": [
    "# Seperate the input features and target values.\n",
    "x = df.iloc[:, 0:-1]\n",
    "y = df.iloc[:, -1]\n",
    "print(x.head())\n",
    "print(y.head())"
   ]
  },
  {
   "cell_type": "markdown",
   "id": "e3b71cee",
   "metadata": {},
   "source": [
    "<h2 style = \"color:green\">x_train, x_test, y_tran, y_test = train_test_split(x, y, test_size)</h2>\n",
    "\n",
    "### Defined in sklearn.model_selection\n",
    "### test_size attribute decides the proportion of split"
   ]
  },
  {
   "cell_type": "code",
   "execution_count": 5,
   "id": "8bf3afd4",
   "metadata": {},
   "outputs": [
    {
     "name": "stdout",
     "output_type": "stream",
     "text": [
      "       CreditScore          Age       Tenure        Balance    HasCrCard  \\\n",
      "count  8000.000000  8000.000000  8000.000000    8000.000000  8000.000000   \n",
      "mean    649.582625    39.018500     5.025125   76698.413194     0.706125   \n",
      "std      96.705416    10.538811     2.898930   62403.434606     0.455564   \n",
      "min     350.000000    18.000000     0.000000       0.000000     0.000000   \n",
      "25%     582.000000    32.000000     3.000000       0.000000     0.000000   \n",
      "50%     650.000000    37.000000     5.000000   97442.755000     1.000000   \n",
      "75%     717.000000    44.000000     8.000000  128044.507500     1.000000   \n",
      "max     850.000000    92.000000    10.000000  238387.560000     1.000000   \n",
      "\n",
      "              Salary  \n",
      "count    8000.000000  \n",
      "mean   100292.402625  \n",
      "std     57707.314879  \n",
      "min        11.580000  \n",
      "25%     51205.597500  \n",
      "50%    100185.240000  \n",
      "75%    150000.187500  \n",
      "max    199970.740000  \n",
      "       CreditScore          Age       Tenure        Balance    HasCrCard  \\\n",
      "count  2000.000000  2000.000000  2000.000000    2000.000000  2000.000000   \n",
      "mean    654.313500    38.535000     4.963500   75635.793665     0.703000   \n",
      "std      96.375803    10.274754     2.865183   62381.640408     0.457051   \n",
      "min     350.000000    18.000000     0.000000       0.000000     0.000000   \n",
      "25%     589.000000    32.000000     2.000000       0.000000     0.000000   \n",
      "50%     657.500000    37.000000     5.000000   96233.400000     1.000000   \n",
      "75%     719.250000    44.000000     7.000000  125916.280000     1.000000   \n",
      "max     850.000000    81.000000    10.000000  250898.090000     1.000000   \n",
      "\n",
      "              Salary  \n",
      "count    2000.000000  \n",
      "mean    99281.588905  \n",
      "std     56723.450852  \n",
      "min        96.270000  \n",
      "25%     50688.917500  \n",
      "50%    100405.680000  \n",
      "75%    146075.887500  \n",
      "max    199992.480000  \n"
     ]
    }
   ],
   "source": [
    "# Split the data\n",
    "\n",
    "from sklearn.model_selection import train_test_split\n",
    "\n",
    "x_train, x_test, y_train, y_test = train_test_split(x, y, test_size = 0.2)\n",
    "\n",
    "print(x_train.describe())\n",
    "print(x_test.describe())"
   ]
  },
  {
   "cell_type": "markdown",
   "id": "c29b3ad9",
   "metadata": {},
   "source": [
    "#### We can use random_state keyword argument to get same set of training and testing samples."
   ]
  },
  {
   "cell_type": "code",
   "execution_count": 6,
   "id": "67b58c1a",
   "metadata": {},
   "outputs": [
    {
     "name": "stdout",
     "output_type": "stream",
     "text": [
      "[100  70  90  50  40  10  30  60]\n",
      "[1 1 1 0 0 0 0 1]\n",
      "[20 80]\n",
      "[0 1]\n"
     ]
    }
   ],
   "source": [
    "import numpy as np\n",
    "\n",
    "X = np.array([10, 20, 30, 40, 50, 60, 70, 80, 90, 100])\n",
    "y = np.array([0, 0, 0, 0, 0, 1, 1, 1,  1, 1])\n",
    "x_train, x_test, y_train, y_test = train_test_split(X, y, test_size=0.2, random_state=19)\n",
    "print(x_train)\n",
    "print(y_train)\n",
    "print(x_test)\n",
    "print(y_test)"
   ]
  }
 ],
 "metadata": {
  "kernelspec": {
   "display_name": "Python 3",
   "language": "python",
   "name": "python3"
  },
  "language_info": {
   "codemirror_mode": {
    "name": "ipython",
    "version": 3
   },
   "file_extension": ".py",
   "mimetype": "text/x-python",
   "name": "python",
   "nbconvert_exporter": "python",
   "pygments_lexer": "ipython3",
   "version": "3.9.4"
  }
 },
 "nbformat": 4,
 "nbformat_minor": 5
}
