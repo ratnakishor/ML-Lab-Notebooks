{
 "cells": [
  {
   "cell_type": "markdown",
   "id": "5315b081",
   "metadata": {},
   "source": [
    "<h1 style = \"color:Brown\">Objectives</h1>\n",
    "\n",
    "### 1. Loading data.\n",
    "### 2. Checking for missing values.\n",
    "### 3. Splitting the data in to train set and test set.\n",
    "\n",
    "\n"
   ]
  },
  {
   "cell_type": "markdown",
   "id": "9cfb0ebd",
   "metadata": {},
   "source": [
    "<h2 style = \"color:green\">Loading Data</h2>"
   ]
  },
  {
   "cell_type": "markdown",
   "id": "4d76a973",
   "metadata": {},
   "source": [
    "### Load the data from external flat file - use pandas.read_csv() or pandas.read_excel()"
   ]
  },
  {
   "cell_type": "code",
   "execution_count": null,
   "id": "4e5bebbc",
   "metadata": {},
   "outputs": [],
   "source": [
    "# Load the dataset from any csv or excel file\n"
   ]
  },
  {
   "cell_type": "markdown",
   "id": "2c280a03",
   "metadata": {},
   "source": [
    "### Load the data from sklearn.datasets - load_iris(), load_diabetes(), load_digits(), load_linnerud(), load_wine(), load_breast_cancer()\n",
    "##### * Parameter return_X_y=True returns the data set as separate input and output numpy arrays\n",
    "##### * Parameter as_frame=True returns the data as a dataframe.\n"
   ]
  },
  {
   "cell_type": "code",
   "execution_count": null,
   "id": "3f8d6ae9",
   "metadata": {},
   "outputs": [],
   "source": [
    "# Load a dataset as a Bunch object\n"
   ]
  },
  {
   "cell_type": "code",
   "execution_count": null,
   "id": "c9749ab9",
   "metadata": {},
   "outputs": [],
   "source": [
    "# Load a dataset seperately as input and output numpy arrays\n"
   ]
  },
  {
   "cell_type": "code",
   "execution_count": null,
   "id": "efacfad5",
   "metadata": {},
   "outputs": [],
   "source": [
    "# Load a dataset seperately as input and output pandas objects\n"
   ]
  },
  {
   "cell_type": "markdown",
   "id": "557cf5e0",
   "metadata": {},
   "source": [
    "<h2 style = \"color:green\">pandas.isna(object)</h2>\n",
    "\n",
    "### Detects missing values.\n",
    "### Returns a boolen object of same size.\n",
    "### None and np.NaN are mapped True values. Everything else gets mapped to False values."
   ]
  },
  {
   "cell_type": "code",
   "execution_count": null,
   "id": "05bc4c73",
   "metadata": {},
   "outputs": [],
   "source": []
  },
  {
   "cell_type": "code",
   "execution_count": null,
   "id": "feaed93f",
   "metadata": {},
   "outputs": [],
   "source": []
  },
  {
   "cell_type": "code",
   "execution_count": null,
   "id": "f18b0691",
   "metadata": {},
   "outputs": [],
   "source": []
  },
  {
   "cell_type": "markdown",
   "id": "e3b71cee",
   "metadata": {},
   "source": [
    "<h2 style = \"color:green\">x_train, x_test, y_tran, y_test = train_test_split(x, y, test_size)</h2>\n",
    "\n",
    "### Defined in sklearn.model_selection\n",
    "### test_size attribute decides the proportion of split"
   ]
  },
  {
   "cell_type": "code",
   "execution_count": 1,
   "id": "8bf3afd4",
   "metadata": {},
   "outputs": [],
   "source": [
    "# Split the data\n"
   ]
  },
  {
   "cell_type": "markdown",
   "id": "c29b3ad9",
   "metadata": {},
   "source": [
    "#### We can use random_state keyword argument to get same set of training and testing samples."
   ]
  },
  {
   "cell_type": "code",
   "execution_count": null,
   "id": "67b58c1a",
   "metadata": {},
   "outputs": [],
   "source": []
  }
 ],
 "metadata": {
  "kernelspec": {
   "display_name": "Python 3",
   "language": "python",
   "name": "python3"
  },
  "language_info": {
   "codemirror_mode": {
    "name": "ipython",
    "version": 3
   },
   "file_extension": ".py",
   "mimetype": "text/x-python",
   "name": "python",
   "nbconvert_exporter": "python",
   "pygments_lexer": "ipython3",
   "version": "3.9.4"
  }
 },
 "nbformat": 4,
 "nbformat_minor": 5
}
