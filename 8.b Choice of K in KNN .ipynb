{
 "cells": [
  {
   "cell_type": "markdown",
   "id": "2748d092",
   "metadata": {},
   "source": [
    "## Step 1: Load the dataset and split it"
   ]
  },
  {
   "cell_type": "code",
   "execution_count": null,
   "id": "6ad92329",
   "metadata": {},
   "outputs": [],
   "source": []
  },
  {
   "cell_type": "markdown",
   "id": "60d80d27",
   "metadata": {},
   "source": [
    "## Step 2: Find training accuracy and testing accuracy scores for a range of  K values \n",
    "\n",
    "Step 1: Start with empty lists for both training and testing accuracies.\n",
    "\n",
    "Step 2: For each K value in the selected range, do the following\n",
    "\n",
    "        --> Build the model.\n",
    "\n",
    "        --> Find the accuracy with training data and append it to list of training accuracies.\n",
    "   \n",
    "        --> Find the accuracy with testing data and append it to list of testing accuracies."
   ]
  },
  {
   "cell_type": "code",
   "execution_count": null,
   "id": "d49ea7e5",
   "metadata": {},
   "outputs": [],
   "source": []
  },
  {
   "cell_type": "markdown",
   "id": "4d523bc1",
   "metadata": {},
   "source": [
    "## Step 3: Plot training & testing accuracies against the range of K values and find the optimal value for K from it.\n",
    "\n",
    "Hint: Pick a K value where you dont find any overfitting or underfitting."
   ]
  },
  {
   "cell_type": "code",
   "execution_count": null,
   "id": "6124a471",
   "metadata": {},
   "outputs": [],
   "source": []
  }
 ],
 "metadata": {
  "kernelspec": {
   "display_name": "Python 3",
   "language": "python",
   "name": "python3"
  },
  "language_info": {
   "codemirror_mode": {
    "name": "ipython",
    "version": 3
   },
   "file_extension": ".py",
   "mimetype": "text/x-python",
   "name": "python",
   "nbconvert_exporter": "python",
   "pygments_lexer": "ipython3",
   "version": "3.9.4"
  }
 },
 "nbformat": 4,
 "nbformat_minor": 5
}
