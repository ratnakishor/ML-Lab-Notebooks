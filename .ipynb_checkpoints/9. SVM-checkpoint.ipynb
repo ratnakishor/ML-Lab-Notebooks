{
 "cells": [
  {
   "cell_type": "markdown",
   "id": "d28a3037",
   "metadata": {},
   "source": [
    "## Step 1: Import the digits dataset from sklearn and split it into train and test sets."
   ]
  },
  {
   "cell_type": "markdown",
   "id": "2708c658",
   "metadata": {},
   "source": [
    "### Digits dataset in sklearn.datasets:\n",
    "\n",
    "This dataset is made up of 1797 8x8 images. \n",
    "* Number of classes: 10 --> 0, 1, 2, 3, 4, 5, 6, 7, 8, 9\n",
    "* Number of samples: 1797\n",
    "* Number of features: 64\n",
    "* Each sample represents the 64 pixel values of a 8x8 image.\n",
    "* Range of each pixel value is 0 - 16."
   ]
  },
  {
   "cell_type": "code",
   "execution_count": null,
   "id": "4eff7d1d",
   "metadata": {},
   "outputs": [],
   "source": [
    "\n"
   ]
  },
  {
   "cell_type": "code",
   "execution_count": null,
   "id": "37aeb2d7",
   "metadata": {},
   "outputs": [],
   "source": []
  },
  {
   "cell_type": "markdown",
   "id": "80770fcd",
   "metadata": {},
   "source": [
    "## Step 2: Build the model"
   ]
  },
  {
   "cell_type": "markdown",
   "id": "93e5ba06",
   "metadata": {},
   "source": [
    "* Import the class SVC from sklearn.svm module\n",
    "* Create a model objet using SVC class\n",
    "* Use fit method to train the model with training dataset."
   ]
  },
  {
   "cell_type": "code",
   "execution_count": null,
   "id": "9f281c77",
   "metadata": {},
   "outputs": [],
   "source": []
  },
  {
   "cell_type": "markdown",
   "id": "90d66bf6",
   "metadata": {},
   "source": [
    "## Step 3: Test and Evaluate the model."
   ]
  },
  {
   "cell_type": "markdown",
   "id": "f822d088",
   "metadata": {},
   "source": [
    "* Use predict method to predict the class for unseen data samples.\n",
    "* Import accuracy_score function from sklearn.metrics module for evaluation"
   ]
  },
  {
   "cell_type": "code",
   "execution_count": null,
   "id": "4ad8840d",
   "metadata": {},
   "outputs": [],
   "source": []
  },
  {
   "cell_type": "code",
   "execution_count": null,
   "id": "ec2a36ee",
   "metadata": {},
   "outputs": [],
   "source": []
  },
  {
   "cell_type": "markdown",
   "id": "86fb0643",
   "metadata": {},
   "source": [
    "## Step 4: Evaluate the model with different kernels"
   ]
  },
  {
   "cell_type": "markdown",
   "id": "2d056d22",
   "metadata": {},
   "source": [
    "* SVC class takes a parameter kernel which can take one of linear / poly / rbf / sigmoid.\n",
    "* rbf (Radial Basis Function) is the default value."
   ]
  },
  {
   "cell_type": "code",
   "execution_count": null,
   "id": "5ea3b2de",
   "metadata": {},
   "outputs": [],
   "source": []
  },
  {
   "cell_type": "code",
   "execution_count": null,
   "id": "eddcbeee",
   "metadata": {},
   "outputs": [],
   "source": []
  },
  {
   "cell_type": "code",
   "execution_count": null,
   "id": "b5c934bf",
   "metadata": {},
   "outputs": [],
   "source": []
  }
 ],
 "metadata": {
  "kernelspec": {
   "display_name": "Python 3",
   "language": "python",
   "name": "python3"
  },
  "language_info": {
   "codemirror_mode": {
    "name": "ipython",
    "version": 3
   },
   "file_extension": ".py",
   "mimetype": "text/x-python",
   "name": "python",
   "nbconvert_exporter": "python",
   "pygments_lexer": "ipython3",
   "version": "3.9.4"
  }
 },
 "nbformat": 4,
 "nbformat_minor": 5
}
