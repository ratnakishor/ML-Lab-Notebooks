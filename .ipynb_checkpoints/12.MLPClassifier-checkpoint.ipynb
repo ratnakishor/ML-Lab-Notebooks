{
 "cells": [
  {
   "cell_type": "markdown",
   "id": "36f67e9c",
   "metadata": {},
   "source": [
    "## Step 1: Import the iris dataset using load_iris class from sklearn.datasets and split it into training and testing subsets"
   ]
  },
  {
   "cell_type": "code",
   "execution_count": null,
   "id": "581c6a19",
   "metadata": {},
   "outputs": [],
   "source": []
  },
  {
   "cell_type": "code",
   "execution_count": null,
   "id": "b1568ef3",
   "metadata": {},
   "outputs": [],
   "source": []
  },
  {
   "cell_type": "markdown",
   "id": "adeed571",
   "metadata": {},
   "source": [
    "## Step 2: Build the MLP Model\n",
    "\n",
    "--> Import MLPClassifier from sklearn.neural_network module\n",
    "\n",
    "--> Multilayer Perceptron Classifier\n",
    "\n",
    "--> Some Hyper Parameters:\n",
    "\n",
    "    * max_iter - Maximum number of iterations. Default is 200.\n",
    "    \n",
    "    * hidden_layer_sizes - Determines the number of hidden layers and number of neurons in each layer. Default is (100, ) i.e., 1 hidden layer with 100 neurons.\n",
    "    \n",
    "    * activation - Activation function for the hidden layers {'identity', 'logistic', 'tanh', 'relu'}. Default is 'relu'.\n",
    "    \n",
    "    * solver - The solver for weight optimization {'lbfgs', 'sgd', 'adam'}. Default is 'adam'.\n",
    "    \n",
    "    * batch_size - Size of minibatches for stochostic optimizers.\n",
    "    \n",
    "    * learning_rate - Learning rate schedule for weight update {'constant', 'invscaling', 'adaptive}. Default is 'constant'.\n",
    "    \n",
    "    * learning_rate_init - The initial learning rate. Default is 0.001.\n",
    "    \n",
    "    * momentum - Momentum for gradient decent update {0 - 1}. Defult is 0.9.\n",
    "    \n",
    "--> fit(x_train, y_train) method can be used to build the model.\n"
   ]
  },
  {
   "cell_type": "code",
   "execution_count": null,
   "id": "d37d7eaf",
   "metadata": {},
   "outputs": [],
   "source": []
  },
  {
   "cell_type": "code",
   "execution_count": 1,
   "id": "fe5998e4",
   "metadata": {},
   "outputs": [],
   "source": [
    "# MLP with 100 iterations and one hidden layer with 100 default nodes.\n"
   ]
  },
  {
   "cell_type": "markdown",
   "id": "3d2eb8cf",
   "metadata": {},
   "source": [
    "## Step 3: Evaluate the model performance\n",
    "\n",
    "--> Import accuracy_score function from sklearn.metrics\n",
    "\n",
    "--> Check for any overfitting"
   ]
  },
  {
   "cell_type": "code",
   "execution_count": null,
   "id": "93be2c18",
   "metadata": {},
   "outputs": [],
   "source": []
  },
  {
   "cell_type": "code",
   "execution_count": null,
   "id": "6c2ff929",
   "metadata": {},
   "outputs": [],
   "source": []
  },
  {
   "cell_type": "markdown",
   "id": "9f7ca313",
   "metadata": {},
   "source": [
    "## Step 4: Fine tune the model performance by  channging hyper parammeter values\n",
    "\n",
    "--> Check for any overfitting"
   ]
  },
  {
   "cell_type": "code",
   "execution_count": 2,
   "id": "a7dc2de0",
   "metadata": {},
   "outputs": [],
   "source": [
    "# MLP with 100 iterations and two hidden layers with 100 and 20 nodes respectively.\n"
   ]
  },
  {
   "cell_type": "code",
   "execution_count": 3,
   "id": "8dae23e0",
   "metadata": {},
   "outputs": [],
   "source": [
    "# MLP with 100 iterations, two hidden layers with 100 and 20 nodes respectively and tanh activation function.\n",
    "\n"
   ]
  }
 ],
 "metadata": {
  "kernelspec": {
   "display_name": "Python 3",
   "language": "python",
   "name": "python3"
  },
  "language_info": {
   "codemirror_mode": {
    "name": "ipython",
    "version": 3
   },
   "file_extension": ".py",
   "mimetype": "text/x-python",
   "name": "python",
   "nbconvert_exporter": "python",
   "pygments_lexer": "ipython3",
   "version": "3.9.4"
  }
 },
 "nbformat": 4,
 "nbformat_minor": 5
}
