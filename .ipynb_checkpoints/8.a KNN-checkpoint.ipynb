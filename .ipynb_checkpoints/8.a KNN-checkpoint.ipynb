{
 "cells": [
  {
   "cell_type": "markdown",
   "id": "517447fe",
   "metadata": {},
   "source": [
    "## Step 1: Load breast cancer dataset from sklean and split it as train and test sets."
   ]
  },
  {
   "cell_type": "markdown",
   "id": "aeb9e2ec",
   "metadata": {},
   "source": [
    "### sklearn.datasets.load_breast_cancer()\n",
    "\n",
    "--> Number of classes: 2 ['malignant', 'benign']\n",
    "\n",
    "--> Total samples: 569 ['malignant' 212, 'benign' 357]\n",
    "\n",
    "--> Dimensionality: 30\n",
    "\n",
    "**Returns dictionary-like Bunch object with following attributes**\n",
    "\n",
    "--> data: The ndarray of input data samples with a shape (569, 30)\n",
    "\n",
    "--> target: The ndarray of classification target with a shape (569, )\n",
    "\n",
    "--> feature_names: List of feature names\n",
    "\n",
    "--> target_names: List of target class names\n",
    "\n"
   ]
  },
  {
   "cell_type": "code",
   "execution_count": null,
   "id": "4dc2327f",
   "metadata": {},
   "outputs": [],
   "source": []
  },
  {
   "cell_type": "code",
   "execution_count": null,
   "id": "f08b2c71",
   "metadata": {},
   "outputs": [],
   "source": []
  },
  {
   "cell_type": "markdown",
   "id": "d8270068",
   "metadata": {},
   "source": [
    "## Step 2: Build the model\n",
    "\n",
    "### Import KNearestClassifier from sklearn.neighbors\n",
    "--> Object creation: model = KNeighborsClassifier(n_neighbors) "
   ]
  },
  {
   "cell_type": "code",
   "execution_count": null,
   "id": "25a690b4",
   "metadata": {},
   "outputs": [],
   "source": []
  },
  {
   "cell_type": "markdown",
   "id": "df0919dc",
   "metadata": {},
   "source": [
    "## Step 3: Test the model\n",
    "### We can import confusion_matrix, accuracy_score, recall_score, precision_score, f1_score functions from sklearn.metrics"
   ]
  },
  {
   "cell_type": "code",
   "execution_count": null,
   "id": "6747c64f",
   "metadata": {},
   "outputs": [],
   "source": []
  }
 ],
 "metadata": {
  "kernelspec": {
   "display_name": "Python 3",
   "language": "python",
   "name": "python3"
  },
  "language_info": {
   "codemirror_mode": {
    "name": "ipython",
    "version": 3
   },
   "file_extension": ".py",
   "mimetype": "text/x-python",
   "name": "python",
   "nbconvert_exporter": "python",
   "pygments_lexer": "ipython3",
   "version": "3.9.4"
  }
 },
 "nbformat": 4,
 "nbformat_minor": 5
}
