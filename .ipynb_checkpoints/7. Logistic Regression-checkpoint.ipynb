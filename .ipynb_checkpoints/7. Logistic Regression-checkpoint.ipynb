{
 "cells": [
  {
   "cell_type": "markdown",
   "id": "52399fba",
   "metadata": {},
   "source": [
    "### Step 1: Load the data set, Check if any missing vaues and split it into train & test sets."
   ]
  },
  {
   "cell_type": "code",
   "execution_count": null,
   "id": "0c93438d",
   "metadata": {},
   "outputs": [],
   "source": []
  },
  {
   "cell_type": "code",
   "execution_count": null,
   "id": "984bd322",
   "metadata": {},
   "outputs": [],
   "source": []
  },
  {
   "cell_type": "code",
   "execution_count": null,
   "id": "0643d8b8",
   "metadata": {},
   "outputs": [],
   "source": []
  },
  {
   "cell_type": "markdown",
   "id": "2383cb82",
   "metadata": {},
   "source": [
    "### Step 2: Build the model"
   ]
  },
  {
   "cell_type": "markdown",
   "id": "7ca8919e",
   "metadata": {},
   "source": [
    "#### sklearn.linear_model.LogisticRegression class can be used to cleate model object\n",
    "\n",
    "fit() method can be used to train the model\n",
    "\n",
    "predict() method can be used to predict the outputs for unseen data "
   ]
  },
  {
   "cell_type": "code",
   "execution_count": null,
   "id": "7275931a",
   "metadata": {},
   "outputs": [],
   "source": [
    "\n"
   ]
  },
  {
   "cell_type": "markdown",
   "id": "712e42f6",
   "metadata": {},
   "source": [
    "### Step 3: Test the model performance\n",
    "\n",
    "we can import various metrics(confusion_matrix, accuracy_score, recall_score, precision_score, f1_score) from sklearn.metrics\n",
    "\n"
   ]
  },
  {
   "cell_type": "code",
   "execution_count": null,
   "id": "870aba95",
   "metadata": {},
   "outputs": [],
   "source": []
  },
  {
   "cell_type": "code",
   "execution_count": null,
   "id": "8eb5d233",
   "metadata": {},
   "outputs": [],
   "source": []
  }
 ],
 "metadata": {
  "kernelspec": {
   "display_name": "Python 3",
   "language": "python",
   "name": "python3"
  },
  "language_info": {
   "codemirror_mode": {
    "name": "ipython",
    "version": 3
   },
   "file_extension": ".py",
   "mimetype": "text/x-python",
   "name": "python",
   "nbconvert_exporter": "python",
   "pygments_lexer": "ipython3",
   "version": "3.9.4"
  }
 },
 "nbformat": 4,
 "nbformat_minor": 5
}
