{
 "cells": [
  {
   "cell_type": "markdown",
   "id": "237995ca",
   "metadata": {},
   "source": [
    "## Step 1: Import the breast_cancer dataset and split it into training and testing parts"
   ]
  },
  {
   "cell_type": "code",
   "execution_count": null,
   "id": "9307c2f6",
   "metadata": {},
   "outputs": [],
   "source": []
  },
  {
   "cell_type": "code",
   "execution_count": null,
   "id": "c2f7daf3",
   "metadata": {},
   "outputs": [],
   "source": []
  },
  {
   "cell_type": "code",
   "execution_count": null,
   "id": "9ee7311c",
   "metadata": {},
   "outputs": [],
   "source": []
  },
  {
   "cell_type": "markdown",
   "id": "81ac13a8",
   "metadata": {},
   "source": [
    "## Step 2: Build the tree\n",
    "### Import the class *DecisionTreeClassifier* from sklearn.tree module.\n",
    "#### We can use parameter *croterion* to set the metric for the split. Possible metrics are 'gini' (default), 'entropy' or 'log_loss'."
   ]
  },
  {
   "cell_type": "code",
   "execution_count": null,
   "id": "dbf4c97d",
   "metadata": {},
   "outputs": [],
   "source": []
  },
  {
   "cell_type": "markdown",
   "id": "80b454dd",
   "metadata": {},
   "source": [
    "## Step 3: Evaluate the performance of the tree\n",
    "\n",
    "--> Compute both Training Accuracy and Test Accuracy to check overfitting"
   ]
  },
  {
   "cell_type": "code",
   "execution_count": null,
   "id": "20259f0e",
   "metadata": {},
   "outputs": [],
   "source": []
  },
  {
   "cell_type": "markdown",
   "id": "ad0203dd",
   "metadata": {},
   "source": [
    "## Step 4: Visualize the tree\n",
    "### Visual tree can be generated using *sklearn.tree.export_graphviz(tree, out_file, class_names, feature_names, impurity, filled)* function. Which return a .dot file with the reqired graph. "
   ]
  },
  {
   "cell_type": "code",
   "execution_count": null,
   "id": "c5a84bad",
   "metadata": {},
   "outputs": [],
   "source": []
  },
  {
   "cell_type": "markdown",
   "id": "46c3a206",
   "metadata": {},
   "source": [
    "### Install graphviz module using *conda/pip install python-graphviz* to view the .dot file.\n",
    "\n",
    "--> Import the graphviz mdule\n",
    "\n",
    "--> Open the dot file and read the content into a variable\n",
    "\n",
    "--> Use Source function of graphviz module to display the tree"
   ]
  },
  {
   "cell_type": "code",
   "execution_count": null,
   "id": "c5958797",
   "metadata": {},
   "outputs": [],
   "source": []
  },
  {
   "cell_type": "markdown",
   "id": "0060fedd",
   "metadata": {},
   "source": [
    "## Step 5: Handle the overfitting by limiting the depth\n",
    "### Use *max_depth* parameter with DecisionTreeClassifier() to limit the depth"
   ]
  },
  {
   "cell_type": "code",
   "execution_count": null,
   "id": "afe5dc11",
   "metadata": {},
   "outputs": [],
   "source": []
  },
  {
   "cell_type": "code",
   "execution_count": null,
   "id": "df6cc7d6",
   "metadata": {},
   "outputs": [],
   "source": []
  }
 ],
 "metadata": {
  "kernelspec": {
   "display_name": "Python 3",
   "language": "python",
   "name": "python3"
  },
  "language_info": {
   "codemirror_mode": {
    "name": "ipython",
    "version": 3
   },
   "file_extension": ".py",
   "mimetype": "text/x-python",
   "name": "python",
   "nbconvert_exporter": "python",
   "pygments_lexer": "ipython3",
   "version": "3.9.4"
  }
 },
 "nbformat": 4,
 "nbformat_minor": 5
}
