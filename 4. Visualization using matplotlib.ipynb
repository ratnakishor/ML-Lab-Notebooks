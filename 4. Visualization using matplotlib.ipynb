{
 "cells": [
  {
   "cell_type": "markdown",
   "id": "b753ef58",
   "metadata": {},
   "source": [
    "\n",
    "### 1. Import numpy library"
   ]
  },
  {
   "cell_type": "code",
   "execution_count": null,
   "id": "e4eb3f62",
   "metadata": {},
   "outputs": [],
   "source": []
  },
  {
   "cell_type": "markdown",
   "id": "1a1b3099",
   "metadata": {},
   "source": [
    "### 2. Create three ndarray objects: x with 100 values between 0 and 20, y with corresponding sin values of x and z with corresponding cos values of x.\n",
    "### Hint: You can use numpy.linspace(start, end, #values), numpy.sin(ndarray) and numpy.cos(ndarray) functions respectively for above task.\n"
   ]
  },
  {
   "cell_type": "code",
   "execution_count": null,
   "id": "ec859d57",
   "metadata": {},
   "outputs": [],
   "source": []
  },
  {
   "cell_type": "markdown",
   "id": "6e477d05",
   "metadata": {},
   "source": [
    "### 3. Import matplotlib.pyplot module"
   ]
  },
  {
   "cell_type": "code",
   "execution_count": null,
   "id": "02ab8cf9",
   "metadata": {},
   "outputs": [],
   "source": []
  },
  {
   "cell_type": "markdown",
   "id": "c23c7cac",
   "metadata": {},
   "source": [
    "### 4. Plot the values of y against x.\n",
    "#### Hint: plot(x, y) and then show() functions from pyplot module can be used.\n",
    "#### Hint: Additional  functions title(text), xlabel(text) and ylabel(text) fcan also be used from pyplot."
   ]
  },
  {
   "cell_type": "code",
   "execution_count": null,
   "id": "d1f18e60",
   "metadata": {},
   "outputs": [],
   "source": []
  },
  {
   "cell_type": "markdown",
   "id": "5e6f8ede",
   "metadata": {},
   "source": [
    "### 5. Plot the values of y and z against x with different line colors on the same window.\n",
    "#### Hint 1: We can use third argument in plot function to represent color. \"r\" or \"red\" for red, \"g\" or \"green\" for green....\n",
    "#### Hint 2: legend(list_of_strings) function can be used to describe the elements of the plot."
   ]
  },
  {
   "cell_type": "code",
   "execution_count": null,
   "id": "9a97aa7e",
   "metadata": {},
   "outputs": [],
   "source": []
  },
  {
   "cell_type": "markdown",
   "id": "63ac1c43",
   "metadata": {},
   "source": [
    "### 6. Plot the values of y and z against x with different line colors on seperate windows.\n",
    "#### Hint 1: We can use third argument in plot function to represent color. \"r\" for red, \"g\" for green.... or we can also use keyword argument *color*.\n",
    "#### Hint 2: We can use keyword argument *marker* to use requred marker in the position of data points."
   ]
  },
  {
   "cell_type": "code",
   "execution_count": null,
   "id": "2cbacba3",
   "metadata": {},
   "outputs": [],
   "source": []
  },
  {
   "cell_type": "markdown",
   "id": "09d09790",
   "metadata": {},
   "source": [
    "### 7. Create two ndarray objects each with 25 random integers.\n",
    "#### Hint: ndarray = numpy.random.randint(start, stop, size)"
   ]
  },
  {
   "cell_type": "code",
   "execution_count": null,
   "id": "4f52c2c9",
   "metadata": {},
   "outputs": [],
   "source": []
  },
  {
   "cell_type": "markdown",
   "id": "929db21a",
   "metadata": {},
   "source": [
    "### 8. Display scatter plot between above two variables.\n",
    "#### Hint: Use scatter(x, y) function from pyplot module. "
   ]
  },
  {
   "cell_type": "code",
   "execution_count": null,
   "id": "fbb397e1",
   "metadata": {},
   "outputs": [],
   "source": []
  },
  {
   "cell_type": "markdown",
   "id": "1b3a84ac",
   "metadata": {},
   "source": [
    "### 9. Create two lists: one with names of five students and other with their marks."
   ]
  },
  {
   "cell_type": "code",
   "execution_count": null,
   "id": "e2b632f6",
   "metadata": {},
   "outputs": [],
   "source": []
  },
  {
   "cell_type": "markdown",
   "id": "d38365a6",
   "metadata": {},
   "source": [
    "### 10. Display bar plot between above two variables.\n",
    "#### Hint: Use bar(x, y) function from pyplot module. "
   ]
  },
  {
   "cell_type": "code",
   "execution_count": null,
   "id": "e9e31404",
   "metadata": {},
   "outputs": [],
   "source": []
  },
  {
   "cell_type": "code",
   "execution_count": null,
   "id": "d6a7e2da",
   "metadata": {},
   "outputs": [],
   "source": []
  }
 ],
 "metadata": {
  "kernelspec": {
   "display_name": "Python 3",
   "language": "python",
   "name": "python3"
  },
  "language_info": {
   "codemirror_mode": {
    "name": "ipython",
    "version": 3
   },
   "file_extension": ".py",
   "mimetype": "text/x-python",
   "name": "python",
   "nbconvert_exporter": "python",
   "pygments_lexer": "ipython3",
   "version": "3.9.4"
  }
 },
 "nbformat": 4,
 "nbformat_minor": 5
}
