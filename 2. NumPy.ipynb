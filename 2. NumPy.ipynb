{
 "cells": [
  {
   "cell_type": "markdown",
   "metadata": {},
   "source": [
    "<h1 style = \"color:Red\" >Working with NumPy</h1>\n"
   ]
  },
  {
   "cell_type": "markdown",
   "metadata": {},
   "source": [
    "<h2 style = \"color:Green\"> Outcomes </h2>\n",
    "\n",
    "#### At the end of this chapter, you will be able to\n",
    "* Define NumPy data types\n",
    "* Create and work with NumPy Arrays\n",
    "* Understand the applications of NumpPy"
   ]
  },
  {
   "cell_type": "markdown",
   "metadata": {},
   "source": [
    "<h2 style = \"color:Green\">What is Numpy?</h2>\n",
    "\n",
    "* A Python package for scientific computations\n",
    "\n",
    "* NumPy = ***Numerical Python***\n",
    "\n",
    "* Numpy Library = Multi-dimensional array objects & Functions for processing it.\n",
    "\n",
    "* Multi-dimensional object --> ___ndarray___ object\n",
    "\n",
    "* Variaous operations supported: Arithmetic, Logical, Shape manipulation, Sort, DFT, Statistics, Random simulation etc.\n",
    "\n",
    "* Importing NumPy: ___import numpy as np___"
   ]
  },
  {
   "cell_type": "code",
   "execution_count": 1,
   "metadata": {},
   "outputs": [],
   "source": [
    "# import numpy\n",
    "import numpy as np"
   ]
  },
  {
   "cell_type": "markdown",
   "metadata": {},
   "source": [
    "<h2 style = \"color:Green\"> Creating and Accessing ndarray object</h2>\n",
    "    \n",
    "* ndarray: Collection of items of the same type\n",
    "\n",
    "    \n",
    "* Items can be accessed using zero-based index.\n",
    "\n",
    "    \n",
    "* array() Function: ***numpy.array(object)*** \n",
    "                --> Creates an ndarray from an object.\n",
    "                --> object: Any array or sequence.\n",
    "               "
   ]
  },
  {
   "cell_type": "markdown",
   "metadata": {},
   "source": [
    "<h3 style = \"color:Blue\">One Dimensional Array (Vector):</h3>"
   ]
  },
  {
   "cell_type": "code",
   "execution_count": 2,
   "metadata": {},
   "outputs": [],
   "source": [
    "# Create an one dimensional ndarray object from a list, display its values and type\n"
   ]
  },
  {
   "cell_type": "code",
   "execution_count": 3,
   "metadata": {},
   "outputs": [],
   "source": [
    "# Create an one dimensional ndarray object from a tuple, display its values and type\n"
   ]
  },
  {
   "attachments": {
    "oneDim.png": {
     "image/png": "[encoded data removed]"
    }
   },
   "cell_type": "markdown",
   "metadata": {},
   "source": [
    "<h4 style = \"color:Brown\">Indexing & Slicing:</h4>\n",
    "\n",
    "![oneDim.png](attachment:oneDim.png)"
   ]
  },
  {
   "cell_type": "code",
   "execution_count": 4,
   "metadata": {},
   "outputs": [],
   "source": [
    "# Create above one dimensional ndarray object and access its elements individually. And also slice some of its elements. \n"
   ]
  },
  {
   "cell_type": "markdown",
   "metadata": {},
   "source": [
    "<h3 style = \"color:Blue\">Two-Dimensional Arrays(Matrices)</h3>\n",
    "\n",
    "* Each element  is itself 1D array\n",
    "\n",
    "\n",
    "* arr2 = numpy.array([[row1], [row2], ...., [rowM]])\n",
    "\n",
    "\n",
    "* Accessing an element: arr2[row_index, column_index]"
   ]
  },
  {
   "cell_type": "code",
   "execution_count": 5,
   "metadata": {},
   "outputs": [],
   "source": [
    "# Create a two dimensional array and access their rows and columns individually.\n",
    "# Access the individual elements.\n"
   ]
  },
  {
   "cell_type": "markdown",
   "metadata": {},
   "source": [
    "<h2 style = \"color:Green\">ndarray Attribtes</h2>"
   ]
  },
  {
   "cell_type": "markdown",
   "metadata": {},
   "source": [
    "* ndarray.ndim: Number of dimensions\n",
    "\n",
    "\n",
    "* ndarry.shape: Array dimensions as a tuple.\n",
    "\n",
    "\n",
    "* ndarry.size: Total number of elements\n",
    "\n",
    "\n",
    "* ndarry.dtype: Type of the array elements.\n",
    "\n",
    "\n",
    "* ndarray.itemsize: The size of each element in bytes"
   ]
  },
  {
   "cell_type": "code",
   "execution_count": 6,
   "metadata": {},
   "outputs": [],
   "source": [
    "# Create an one dimensional ndarray object and diplay all its attribute values.\n",
    "\n"
   ]
  },
  {
   "cell_type": "code",
   "execution_count": 7,
   "metadata": {},
   "outputs": [],
   "source": [
    "# Create a two dimensional ndarray object and diplay all its attribute values.\n"
   ]
  },
  {
   "cell_type": "markdown",
   "metadata": {},
   "source": [
    "<h2 style = \"color:Green\">Other NumPy array creation functions</h2>"
   ]
  },
  {
   "cell_type": "markdown",
   "metadata": {},
   "source": [
    "#### zeros(shape)\n",
    "* Returns an array of zeros with specified shape\n",
    "* Dafalut dtype is float\n",
    "\n",
    "\n",
    "\n",
    "#### ones(shape)\n",
    "* Returns an array of ones with specified shape\n",
    "* Dafalut dtype is float\n",
    "\n",
    "\n",
    "#### arange(start, stop, step, dtype)\n",
    "* Returns an ndarray object with elements decided by start, stop and step arguments.\n",
    "* Note that stop value is not including in the array.\n",
    "* Default dtype is type is determined by type of start or stop values.\n",
    "\n",
    "#### linspace(start, stop, N, dtype)\n",
    "* Returns an ndarray object with N elements in the range from start value to stop stop .\n",
    "* Note that stop value is inclusive in the array.\n",
    "* Defaul type is float64"
   ]
  },
  {
   "cell_type": "code",
   "execution_count": 8,
   "metadata": {},
   "outputs": [],
   "source": [
    "# Create ndarray objects with all zeros using different dimensions and dtypes.\n",
    "\n"
   ]
  },
  {
   "cell_type": "code",
   "execution_count": 9,
   "metadata": {},
   "outputs": [],
   "source": [
    "# Create ndarray objects with all ones using different dimensions and dtypes.\n"
   ]
  },
  {
   "cell_type": "code",
   "execution_count": 10,
   "metadata": {},
   "outputs": [],
   "source": [
    "# Create one dimensional ndarray objects with various range of values and dtypes.\n"
   ]
  },
  {
   "cell_type": "code",
   "execution_count": 11,
   "metadata": {},
   "outputs": [],
   "source": [
    "# Create one dimensional ndarray objects with 25 elements between 1 and 100 of different dtypes.\n"
   ]
  },
  {
   "cell_type": "markdown",
   "metadata": {},
   "source": [
    "<h3 style = \"color:green\">Reshaping using reshape(shape) method</h3>"
   ]
  },
  {
   "cell_type": "code",
   "execution_count": 1,
   "metadata": {},
   "outputs": [],
   "source": [
    "# Reshape any of the above ndarray object using reshape method\n"
   ]
  }
 ],
 "metadata": {
  "kernelspec": {
   "display_name": "Python 3",
   "language": "python",
   "name": "python3"
  },
  "language_info": {
   "codemirror_mode": {
    "name": "ipython",
    "version": 3
   },
   "file_extension": ".py",
   "mimetype": "text/x-python",
   "name": "python",
   "nbconvert_exporter": "python",
   "pygments_lexer": "ipython3",
   "version": "3.9.4"
  }
 },
 "nbformat": 4,
 "nbformat_minor": 4
}
